{
 "cells": [
  {
   "cell_type": "code",
   "execution_count": 9,
   "metadata": {},
   "outputs": [
    {
     "name": "stdout",
     "output_type": "stream",
     "text": [
      "The autoreload extension is already loaded. To reload it, use:\n",
      "  %reload_ext autoreload\n"
     ]
    }
   ],
   "source": [
    "%load_ext autoreload\n",
    "%autoreload 2"
   ]
  },
  {
   "cell_type": "code",
   "execution_count": 10,
   "metadata": {},
   "outputs": [],
   "source": [
    "from rdkit import Chem\n",
    "import rdkit\n",
    "import torch\n",
    "from torch_geometric.utils import dense_to_sparse\n",
    "from graph_transformer import GraphTransformer\n",
    "import torch.nn as nn\n",
    "import torch.nn.functional as F\n"
   ]
  },
  {
   "cell_type": "markdown",
   "metadata": {},
   "source": [
    "# Function for handling molecules in graph format"
   ]
  },
  {
   "cell_type": "code",
   "execution_count": 11,
   "metadata": {},
   "outputs": [],
   "source": [
    "atom_vocab = ['C', 'O', 'N', 'F', 'Cl', 'Br', 'I', 'S']\n",
    "bond_vocab = [None, rdkit.Chem.rdchem.BondType.SINGLE, rdkit.Chem.rdchem.BondType.DOUBLE, rdkit.Chem.rdchem.BondType.TRIPLE]\n",
    "\n",
    "def get_dense_features_from_smiles(smiles):\n",
    "    mol = Chem.MolFromSmiles(smiles)\n",
    "    graph = torch.tensor(Chem.GetAdjacencyMatrix(mol)).long()\n",
    "    node_features = torch.tensor([atom_vocab.index(atom.GetSymbol()) for atom in mol.GetAtoms()]).long()\n",
    "    # get dense graph\n",
    "    x_features = F.one_hot(node_features, num_classes=len(atom_vocab)).float()\n",
    "    e_features = F.one_hot(graph, num_classes=len(bond_vocab)).float()\n",
    "    y_features = torch.zeros(1,1).float()\n",
    "    node_mask = torch.ones(x_features.shape[0]).bool()\n",
    "\n",
    "    return x_features.unsqueeze(0), e_features.unsqueeze(0), y_features, node_mask.unsqueeze(0)\n",
    "\n",
    "def get_smiles_from_dense_features(nodes, edges):\n",
    "    #E = F.softmax(graph.E, dim=-1)\n",
    "    out_edge_index, out_edge_attr = dense_to_sparse(edges)\n",
    "    # turn into smiles molecule\n",
    "    mol = Chem.RWMol()\n",
    "    for i, atom_c in enumerate(nodes.squeeze()):\n",
    "        atom = Chem.Atom(atom_vocab[int(atom_c)])\n",
    "        mol.AddAtom(atom)\n",
    "\n",
    "    # add bonds\n",
    "    edge_set = []\n",
    "    for i, bond_type in enumerate(out_edge_attr):\n",
    "        if set((int(out_edge_index[0][i]), int(out_edge_index[1][i]))) in edge_set:\n",
    "            continue\n",
    "        edge_set.append(set((int(out_edge_index[0][i]), int(out_edge_index[1][i]))))\n",
    "        mol.AddBond(int(out_edge_index[0][i].item()), int(out_edge_index[1][i].item()), bond_vocab[int(bond_type)])\n",
    "\n",
    "    m = mol.GetMol()\n",
    "    smiles = Chem.MolToSmiles(m)\n",
    "\n",
    "    return smiles, m"
   ]
  },
  {
   "cell_type": "code",
   "execution_count": 12,
   "metadata": {},
   "outputs": [],
   "source": [
    "in_smiles = 'C1OCOCO1'\n",
    "x_features, e_features, y_features, node_mask = get_dense_features_from_smiles(in_smiles)\n",
    "smiles, m = get_smiles_from_dense_features(nodes=x_features.argmax(dim=-1), edges=e_features.argmax(dim=-1))\n",
    "assert smiles==in_smiles, 'Something is wrong when encoding the molecule'"
   ]
  },
  {
   "cell_type": "markdown",
   "metadata": {},
   "source": [
    "# Training"
   ]
  },
  {
   "cell_type": "code",
   "execution_count": 13,
   "metadata": {},
   "outputs": [],
   "source": [
    "in_smiles = 'C1OCOCO1'\n",
    "out_smiles = 'O=C(Cl)CC(O)'\n",
    "use_pe = True # NOTE: change this to try without positional encodings\n",
    "epochs = 1000\n",
    "print_every = 50\n",
    "pred_idx = 2"
   ]
  },
  {
   "cell_type": "code",
   "execution_count": 14,
   "metadata": {},
   "outputs": [],
   "source": [
    "in_x_features, in_e_features, in_y_features, in_node_mask = get_dense_features_from_smiles(smiles=in_smiles)\n",
    "out_x_features, out_e_features, out_y_features, out_node_mask = get_dense_features_from_smiles(smiles=out_smiles)"
   ]
  },
  {
   "cell_type": "code",
   "execution_count": 15,
   "metadata": {},
   "outputs": [],
   "source": [
    "model = GraphTransformer(n_layers=5,  # More layers\n",
    "                        input_dims={'X': in_x_features.shape[-1], 'E': in_e_features.shape[-1], 'y': 1}, \n",
    "                        hidden_mlp_dims={'X': 32, 'E': 128, 'y': 16},  # Larger for edges\n",
    "                        hidden_dims={\n",
    "                            'dx': 32, \n",
    "                            'de': 128,  # Much larger for edges\n",
    "                            'dy': 16, \n",
    "                            'n_head': 4, \n",
    "                            'dim_ffX': 64, \n",
    "                            'dim_ffE': 128  # Larger feed-forward for edges\n",
    "                        }, \n",
    "                        output_dims={'X': out_x_features.shape[-1], 'E': out_e_features.shape[-1], 'y': 1}, \n",
    "                        act_fn_in=nn.LeakyReLU(0.1),  # Try LeakyReLU to avoid dying ReLUs\n",
    "                        act_fn_out=nn.LeakyReLU(0.1),\n",
    "                        addition=False)  # Try without residual connections first"
   ]
  },
  {
   "cell_type": "code",
   "execution_count": 16,
   "metadata": {},
   "outputs": [
    {
     "name": "stdout",
     "output_type": "stream",
     "text": [
      "epoch 0 loss: 2.1295204162597656\n",
      "epoch 50 loss: 0.7837392687797546\n",
      "epoch 100 loss: 0.2641923129558563\n",
      "epoch 150 loss: 0.052310120314359665\n",
      "epoch 200 loss: 0.02939585968852043\n",
      "epoch 250 loss: 0.0353541299700737\n",
      "epoch 300 loss: 0.011216741986572742\n",
      "epoch 350 loss: 0.014168841764330864\n",
      "epoch 400 loss: 0.02094941958785057\n",
      "epoch 450 loss: 0.015783805400133133\n",
      "epoch 500 loss: 0.009087944403290749\n",
      "epoch 550 loss: 0.01094951294362545\n",
      "epoch 600 loss: 0.004658202175050974\n",
      "epoch 650 loss: 0.004784044343978167\n",
      "epoch 700 loss: 0.0022282523568719625\n",
      "epoch 750 loss: 0.002735563088208437\n",
      "epoch 800 loss: 0.002693953923881054\n",
      "epoch 850 loss: 0.000793557963334024\n",
      "epoch 900 loss: 0.0006066257483325899\n",
      "epoch 950 loss: 0.01265568658709526\n"
     ]
    }
   ],
   "source": [
    "loss_fn = nn.CrossEntropyLoss()\n",
    "optimizer = torch.optim.Adam(model.parameters(), lr=1e-3)\n",
    "lambda_e = .1\n",
    "\n",
    "for e in range(epochs):\n",
    "    train_graph = model(X=in_x_features, \n",
    "                        E=in_e_features, \n",
    "                        y=in_y_features, \n",
    "                        node_mask=in_node_mask,\n",
    "                        use_pe=use_pe)\n",
    "    x_target = out_x_features.argmax(dim=-1)  # Convert one-hot to indices\n",
    "    e_target = out_e_features.argmax(dim=-1)  # Convert one-hot to indices\n",
    "    \n",
    "    # Calculate loss for each component\n",
    "    x_loss = loss_fn(train_graph.X.reshape(-1, train_graph.X.shape[-1]), x_target.reshape(-1))\n",
    "    e_loss = loss_fn(train_graph.E.reshape(-1, train_graph.E.shape[-1]), e_target.reshape(-1))\n",
    "\n",
    "    # Total loss\n",
    "    loss = x_loss + lambda_e*e_loss \n",
    "    optimizer.zero_grad()\n",
    "    loss.backward()\n",
    "\n",
    "    optimizer.step()\n",
    "    if e % print_every == 0:\n",
    "        print(f'epoch {e} loss: {loss.item()}')\n"
   ]
  },
  {
   "cell_type": "markdown",
   "metadata": {},
   "source": [
    "# Sample from model "
   ]
  },
  {
   "cell_type": "code",
   "execution_count": 17,
   "metadata": {},
   "outputs": [],
   "source": [
    "def sample_from_model(model, s, num_samples=1):\n",
    "    '''\n",
    "        Sample from model.\n",
    "    '''\n",
    "    model.eval()\n",
    "    pred_x, pred_e, pred_y, pred_node_mask = get_dense_features_from_smiles(s)\n",
    "    graph_pred = model(X=pred_x.float(),\n",
    "                      E=pred_e.float(), \n",
    "                      y=pred_y.float(), \n",
    "                      node_mask=pred_node_mask,\n",
    "                      use_pe=use_pe)\n",
    "\n",
    "    x_probs = F.softmax(graph_pred.X, dim=-1).reshape(-1, pred_x.shape[-1])\n",
    "    x_sample = torch.multinomial(x_probs, \n",
    "                                 num_samples=num_samples, \n",
    "                                 replacement=True).T\n",
    "    nodes = x_sample.reshape(num_samples, graph_pred.X.shape[1])\n",
    "\n",
    "    # Sample one index per row\n",
    "    e_probs = F.softmax(graph_pred.E, dim=-1).reshape(-1, pred_e.shape[-1])\n",
    "    e_sample = torch.multinomial(e_probs, \n",
    "                                 num_samples=num_samples, \n",
    "                                 replacement=True).T \n",
    "    edges = e_sample.reshape(num_samples, graph_pred.E.shape[1], graph_pred.E.shape[2])\n",
    "\n",
    "    return nodes, edges\n"
   ]
  },
  {
   "cell_type": "code",
   "execution_count": 18,
   "metadata": {},
   "outputs": [],
   "source": [
    "model.eval()\n",
    "in_x_features, in_e_features, in_y_features, in_node_mask = get_dense_features_from_smiles(smiles=in_smiles)\n",
    "out_graph = model(X=in_x_features, \n",
    "                  E=in_e_features, \n",
    "                  y=in_y_features, \n",
    "                  node_mask=in_node_mask,\n",
    "                  use_pe=use_pe)\n"
   ]
  },
  {
   "cell_type": "code",
   "execution_count": 19,
   "metadata": {},
   "outputs": [],
   "source": [
    "num_samples = 2\n",
    "nodes, edges = sample_from_model(model, in_smiles, num_samples=num_samples)"
   ]
  },
  {
   "cell_type": "code",
   "execution_count": 20,
   "metadata": {},
   "outputs": [
    {
     "name": "stdout",
     "output_type": "stream",
     "text": [
      "sample 0\n",
      "tensor([1, 0, 4, 0, 0, 1]) tensor([[1, 0, 4, 0, 0, 1]]) tensor(True)\n",
      "sample 1\n",
      "tensor([1, 0, 4, 0, 0, 1]) tensor([[1, 0, 4, 0, 0, 1]]) tensor(True)\n"
     ]
    }
   ],
   "source": [
    "for i in range(num_samples):\n",
    "    print(f'sample {i}')\n",
    "    print(nodes[i], out_x_features.argmax(-1), (nodes[i]==out_x_features.argmax(-1)).all())"
   ]
  },
  {
   "cell_type": "code",
   "execution_count": 21,
   "metadata": {},
   "outputs": [
    {
     "name": "stdout",
     "output_type": "stream",
     "text": [
      "sample 0\n",
      "tensor([[0, 1, 0, 0, 0, 0],\n",
      "        [1, 0, 1, 1, 0, 0],\n",
      "        [0, 1, 0, 0, 0, 0],\n",
      "        [0, 1, 0, 0, 1, 0],\n",
      "        [0, 0, 0, 1, 0, 1],\n",
      "        [0, 0, 0, 0, 1, 0]]) tensor([[[0, 1, 0, 0, 0, 0],\n",
      "         [1, 0, 1, 1, 0, 0],\n",
      "         [0, 1, 0, 0, 0, 0],\n",
      "         [0, 1, 0, 0, 1, 0],\n",
      "         [0, 0, 0, 1, 0, 1],\n",
      "         [0, 0, 0, 0, 1, 0]]]) tensor(True)\n",
      "sample 1\n",
      "tensor([[0, 1, 0, 0, 0, 0],\n",
      "        [1, 0, 1, 1, 0, 0],\n",
      "        [0, 1, 0, 0, 0, 0],\n",
      "        [0, 1, 0, 0, 1, 0],\n",
      "        [0, 0, 0, 1, 0, 1],\n",
      "        [0, 0, 0, 0, 1, 0]]) tensor([[[0, 1, 0, 0, 0, 0],\n",
      "         [1, 0, 1, 1, 0, 0],\n",
      "         [0, 1, 0, 0, 0, 0],\n",
      "         [0, 1, 0, 0, 1, 0],\n",
      "         [0, 0, 0, 1, 0, 1],\n",
      "         [0, 0, 0, 0, 1, 0]]]) tensor(True)\n"
     ]
    }
   ],
   "source": [
    "for i in range(num_samples):\n",
    "    print(f'sample {i}')\n",
    "    print(edges[i], out_e_features.argmax(-1), (edges[i]==out_e_features.argmax(-1)).all())\n"
   ]
  },
  {
   "cell_type": "code",
   "execution_count": 22,
   "metadata": {},
   "outputs": [
    {
     "data": {
      "text/plain": [
       "torch.Size([2, 6, 6])"
      ]
     },
     "execution_count": 22,
     "metadata": {},
     "output_type": "execute_result"
    }
   ],
   "source": [
    "edges.shape"
   ]
  },
  {
   "cell_type": "code",
   "execution_count": 23,
   "metadata": {},
   "outputs": [],
   "source": [
    "# Sample from the distributions\n",
    "all_pred_mols, all_pred_smiles = [], []\n",
    "for i in range(num_samples):\n",
    "    # NOTE: a well trained model (with PE) should not produce self edges, \n",
    "    # but just in case we have some (e.g. without PE), we need to remove them to be able to plot molecules later\n",
    "    edges = edges*(1-(torch.eye(edges.shape[-1])))\n",
    "    pred_smiles, pred_m = get_smiles_from_dense_features(nodes[i], edges[i])\n",
    "    all_pred_mols.append(pred_m)\n",
    "    all_pred_smiles.append(pred_smiles)"
   ]
  },
  {
   "cell_type": "markdown",
   "metadata": {},
   "source": [
    "# Plot the samples"
   ]
  },
  {
   "cell_type": "code",
   "execution_count": 24,
   "metadata": {},
   "outputs": [],
   "source": [
    "\n",
    "import matplotlib.pyplot as plt\n",
    "from rdkit.Chem import Draw\n",
    "import io\n",
    "from PIL import Image\n",
    "import os"
   ]
  },
  {
   "cell_type": "code",
   "execution_count": 25,
   "metadata": {},
   "outputs": [],
   "source": [
    "in_m = Chem.MolFromSmiles(in_smiles)\n",
    "out_m = Chem.MolFromSmiles(out_smiles)\n"
   ]
  },
  {
   "cell_type": "code",
   "execution_count": 26,
   "metadata": {},
   "outputs": [
    {
     "name": "stdout",
     "output_type": "stream",
     "text": [
      "sample 0\n",
      "sample 1\n"
     ]
    },
    {
     "data": {
      "image/png": "[encoded data removed]",
      "text/plain": [
       "<Figure size 1000x500 with 1 Axes>"
      ]
     },
     "metadata": {},
     "output_type": "display_data"
    },
    {
     "data": {
      "image/png": "[encoded data removed]",
      "text/plain": [
       "<Figure size 1000x500 with 1 Axes>"
      ]
     },
     "metadata": {},
     "output_type": "display_data"
    }
   ],
   "source": [
    "# Get the default drawing options and modify them\n",
    "drawer = Draw.MolDraw2DCairo(500, 500)  # Create a drawer with desired size\n",
    "opts = drawer.drawOptions()\n",
    "opts.bondLineWidth = 10  # Set thicker bond lines\n",
    "\n",
    "os.makedirs('figures', exist_ok=True)\n",
    "# Draw the molecule with these options\n",
    "for i, (smi, pred_m) in enumerate(zip(all_pred_smiles, all_pred_mols)):\n",
    "    print(f'sample {i}')\n",
    "    drawer.DrawMolecule(pred_m)\n",
    "    drawer.FinishDrawing()\n",
    "    png_data = drawer.GetDrawingText()\n",
    "\n",
    "    # Convert the PNG data to an image that can be displayed with matplotlib\n",
    "    img = Image.open(io.BytesIO(png_data))\n",
    "\n",
    "    # Display with matplotlib\n",
    "    fig = plt.figure(figsize=(10, 5), frameon=False)\n",
    "    ax = plt.Axes(fig, [0, 0, 1, 1])\n",
    "    ax.set_title(smi)\n",
    "    ax.set_axis_off()\n",
    "    fig.add_axes(ax)\n",
    "    ax.imshow(img)\n",
    "    name = f'pred_m_{i}_usepe_{use_pe}'\n",
    "    plt.savefig(f'figures/{name}.pdf', bbox_inches='tight', pad_inches=0, transparent=True)"
   ]
  },
  {
   "cell_type": "code",
   "execution_count": null,
   "metadata": {},
   "outputs": [],
   "source": []
  }
 ],
 "metadata": {
  "kernelspec": {
   "display_name": "diffalign",
   "language": "python",
   "name": "python3"
  },
  "language_info": {
   "codemirror_mode": {
    "name": "ipython",
    "version": 3
   },
   "file_extension": ".py",
   "mimetype": "text/x-python",
   "name": "python",
   "nbconvert_exporter": "python",
   "pygments_lexer": "ipython3",
   "version": "3.10.16"
  }
 },
 "nbformat": 4,
 "nbformat_minor": 2
}
